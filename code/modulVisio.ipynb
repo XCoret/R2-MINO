{
 "cells": [
  {
   "cell_type": "code",
   "execution_count": 1,
   "metadata": {},
   "outputs": [],
   "source": [
    "# -*- coding: utf-8 -*-\n",
    "'''\n",
    "Computa els canvis registrats en el taulell de joc i ho passa al Mòdul Control.\n",
    "'''\n",
    "import cv2 as cv\n",
    "import numpy as np\n",
    "from matplotlib import pyplot as plt\n",
    "import time"
   ]
  },
  {
   "cell_type": "code",
   "execution_count": 2,
   "metadata": {},
   "outputs": [],
   "source": [
    "def mostrarResultat(im,estatPartida,debug=False):\n",
    "    for d in estatPartida:\n",
    "        if debug:\n",
    "            print(d,':',estatPartida[d])\n",
    "        punts = estatPartida[d][1]\n",
    "        x,y,w,h = estatPartida[d][0]\n",
    "        orientacio = estatPartida[d][2]\n",
    "        margin=20\n",
    "        if orientacio == 0:\n",
    "            x1=x-margin\n",
    "            y1=y+int(h/2)\n",
    "            x2=x+w\n",
    "            y2=y+int(h/2)\n",
    "            im =cv.putText(im,str(punts[0]),(x1,y1), cv.FONT_HERSHEY_SIMPLEX, 1,(0,255,0),2,cv.LINE_AA)\n",
    "            im =cv.putText(im,str(punts[1]),(x2,y2), cv.FONT_HERSHEY_SIMPLEX, 1,(0,255,0),2,cv.LINE_AA)\n",
    "        else:\n",
    "            x1=x+int(w/2)\n",
    "            y1=y\n",
    "            x2=x+int(w/2)\n",
    "            y2=y+h+margin\n",
    "            im =cv.putText(im,str(punts[0]),(x1,y1), cv.FONT_HERSHEY_SIMPLEX, 1,(255,0,0),2,cv.LINE_AA)\n",
    "            im =cv.putText(im,str(punts[1]),(x2,y2), cv.FONT_HERSHEY_SIMPLEX, 1,(255,0,0),2,cv.LINE_AA)            \n",
    "        if debug:\n",
    "            im =cv.putText(im,str(d),(x+int(w/2),(y+int(h/2))), cv.FONT_HERSHEY_SIMPLEX, 1,(0,0,255),2,cv.LINE_AA)\n",
    "    im.astype('uint8')\n",
    "    return im"
   ]
  },
  {
   "cell_type": "code",
   "execution_count": 3,
   "metadata": {},
   "outputs": [],
   "source": [
    "def processarFrame(frame, debug=False):\n",
    "    start = time.time()\n",
    "    im = frame.copy()\n",
    "    # Aplicar Threshold per obtenir imatge binaria\n",
    "    ret,threshold = cv.threshold(frame,127,255,cv.THRESH_BINARY) \n",
    "    # Aplicar filtre Gaussia per eliminar el soroll\n",
    "    threshold = cv.GaussianBlur(threshold, (5,5), 0) \n",
    "    \n",
    "    # Creem imatge 2D per trobar-hi contorns \n",
    "    contorns = threshold[:,:,0]\n",
    "    if debug :\n",
    "        plt.figure()\n",
    "        plt.imshow(contorns,'gray')\n",
    "    # Trobem els contorns presents en la imatge (principalment les fitxes i els punts)\n",
    "    contours, hierarchy = cv.findContours(contorns,cv.RETR_TREE, cv.CHAIN_APPROX_SIMPLE)\n",
    "    # contours -> Llista de contorns (llista de llistes de punts que formen cada contorn)\n",
    "    # hierarchy ->Llista de relacions entre contorns\n",
    "    # estructura de hierarchy -> [Next, Previous, First_Child, Parent]\n",
    "    # el valor de cada camp referencia a un altre contorn\n",
    "    # si no fa referencia a cap contorn, valor = -1 p.e si un contorn no te cap contorn dins : First_Child = -1\n",
    "    \n",
    "    # Creem un diccionari per desar les fitxes amb les seves dades\n",
    "    dictContorns = {}\n",
    "    # dictContorns = {idContorn: [cos,punts,orientacio]}\n",
    "    #                 cos: [x, y, width, height]\n",
    "    #                 punts: [puntsA, puntsB]\n",
    "    #                 orientacio: 0 Horitzontal; 1 Vertical\n",
    "    \n",
    "    # Per cada contorn c\n",
    "    for i,c in enumerate(contours):\n",
    "        pare = hierarchy[0][i,3]\n",
    "        # Si el contorn actual esta dins d'algun altre (es un punt)\n",
    "        if pare != -1:\n",
    "            # registrem les dades de la fitxa a la que pertany el punt a la variable cos\n",
    "            # cos -> (x,y,width,height)\n",
    "            cos = cv.boundingRect(contours[pare])\n",
    "            # registrem les dades del punt actual\n",
    "            x,y,w,h = cv.boundingRect(contours[i])\n",
    "            punts=[0,0]\n",
    "            orientacio=0\n",
    "            #Comprovem l'orientacio de la fitxa i assignem el punt a un dels costats\n",
    "            if cos[2] > cos[3]:\n",
    "                # Horitzontal\n",
    "                orientacio=0\n",
    "                if x < cos[0]+int(cos[2]/2):\n",
    "                    punts=[1,0] # Esquerra\n",
    "                else:\n",
    "                    punts=[0,1] # Dreta\n",
    "            elif cos[2] < cos[3]:\n",
    "                # Vertical\n",
    "                orientacio=1\n",
    "                if y < cos[1]+int(cos[3]/2):\n",
    "                    punts=[1,0] # Superior\n",
    "                else:\n",
    "                    punts=[0,1] # Inferior\n",
    "            else:\n",
    "                print('Error!')\n",
    "                pass          \n",
    "            \n",
    "            # Si la fitxa no existeix en el diccionari, la afegim amb totes les dades que hem recollit\n",
    "            if not str(pare) in dictContorns:\n",
    "                dictContorns[str(pare)]=[cos,punts,orientacio]\n",
    "            # Si la fitxa si existeix, modifiquem el camp punts afegint el punt trobat al canto corresponent\n",
    "            else:               \n",
    "                dictContorns[str(pare)][1][0]+=punts[0]\n",
    "                dictContorns[str(pare)][1][1]+=punts[1]\n",
    "    if debug:\n",
    "        print('Temps execució: %.3f segons' %(time.time()-start))\n",
    "    return dictContorns"
   ]
  },
  {
   "cell_type": "code",
   "execution_count": 42,
   "metadata": {},
   "outputs": [
    {
     "name": "stdout",
     "output_type": "stream",
     "text": [
      "abans\n",
      "despres\n",
      "contorns: 21\n",
      "[[[11 -1  1 -1]\n",
      "  [ 2 -1 -1  0]\n",
      "  [ 3  1 -1  0]\n",
      "  [ 4  2 -1  0]\n",
      "  [ 5  3 -1  0]\n",
      "  [ 6  4 -1  0]\n",
      "  [ 9  5  7  0]\n",
      "  [ 8 -1 -1  6]\n",
      "  [-1  7 -1  6]\n",
      "  [10  6 -1  0]\n",
      "  [-1  9 -1  0]\n",
      "  [-1  0 12 -1]\n",
      "  [13 -1 -1 11]\n",
      "  [14 12 -1 11]\n",
      "  [15 13 -1 11]\n",
      "  [16 14 -1 11]\n",
      "  [17 15 -1 11]\n",
      "  [18 16 -1 11]\n",
      "  [-1 17 19 11]\n",
      "  [20 -1 -1 18]\n",
      "  [-1 19 -1 18]]]\n",
      "Temps execució: 0.290 segons\n"
     ]
    },
    {
     "data": {
      "image/png": "[encoded data removed]",
      "text/plain": [
       "<Figure size 432x288 with 1 Axes>"
      ]
     },
     "metadata": {
      "needs_background": "light"
     },
     "output_type": "display_data"
    },
    {
     "data": {
      "image/png": "[encoded data removed]",
      "text/plain": [
       "<Figure size 432x288 with 1 Axes>"
      ]
     },
     "metadata": {
      "needs_background": "light"
     },
     "output_type": "display_data"
    },
    {
     "data": {
      "image/png": "[encoded data removed]",
      "text/plain": [
       "<Figure size 432x288 with 1 Axes>"
      ]
     },
     "metadata": {
      "needs_background": "light"
     },
     "output_type": "display_data"
    },
    {
     "data": {
      "image/png": "[encoded data removed]",
      "text/plain": [
       "<Figure size 432x288 with 1 Axes>"
      ]
     },
     "metadata": {
      "needs_background": "light"
     },
     "output_type": "display_data"
    },
    {
     "data": {
      "image/png": "[encoded data removed]",
      "text/plain": [
       "<Figure size 432x288 with 1 Axes>"
      ]
     },
     "metadata": {
      "needs_background": "light"
     },
     "output_type": "display_data"
    }
   ],
   "source": [
    "\n",
    "        \n",
    "\n",
    "def processarFrame2(frame, debug=False):\n",
    "    start = time.time()\n",
    "    im = frame.copy()\n",
    "    # Aplicar Threshold per obtenir imatge binaria\n",
    "    ret,threshold = cv.threshold(frame,127,255,cv.THRESH_BINARY) \n",
    "    # Aplicar filtre Gaussia per eliminar el soroll\n",
    "    #threshold = cv.GaussianBlur(threshold, (5,5), 0) \n",
    "    \n",
    "    # Creem imatge 2D per trobar-hi contorns \n",
    "    contorns = threshold[:,:,0]\n",
    "    if debug :\n",
    "        plt.figure()\n",
    "        plt.imshow(contorns,'gray')\n",
    "    # Trobem els contorns presents en la imatge (principalment les fitxes i els punts)\n",
    "    contours, hierarchy = cv.findContours(contorns,cv.RETR_TREE, cv.CHAIN_APPROX_SIMPLE)\n",
    "    # contours -> Llista de contorns (llista de llistes de punts que formen cada contorn)\n",
    "    # hierarchy ->Llista de relacions entre contorns\n",
    "    # estructura de hierarchy -> [Next, Previous, First_Child, Parent]\n",
    "    # el valor de cada camp referencia a un altre contorn\n",
    "    # si no fa referencia a cap contorn, valor = -1 p.e si un contorn no te cap contorn dins : First_Child = -1\n",
    "    \n",
    "    # Creem un diccionari per desar les fitxes amb les seves dades\n",
    "    dictContorns = {}\n",
    "    # dictContorns = {idContorn: [cos,punts,orientacio]}\n",
    "    #                 cos: [x, y, width, height]\n",
    "    #                 punts: [puntsA, puntsB]\n",
    "    #                 orientacio: 0 Horitzontal; 1 Vertical\n",
    "    print('abans')\n",
    "    plt.figure()\n",
    "    plt.imshow(threshold,'gray')\n",
    "    kernel = np.ones((3,3), np.uint8)\n",
    "    threshold = cv.erode(threshold,kernel,iterations=1)\n",
    "    print('despres')\n",
    "    plt.figure()\n",
    "    plt.imshow(threshold,'gray')\n",
    "    \n",
    "    # Per cada contorn c\n",
    "    out = threshold.copy()\n",
    "    print('contorns: {}'.format(len(hierarchy[0])))\n",
    "    for i,c in enumerate(contours):\n",
    "        if(hierarchy[0][i,0]==-1):\n",
    "            cnt = contours[i]\n",
    "            cv.drawContours(out, [cnt], 0, (0,255,0), 3)\n",
    "    \n",
    "    print(hierarchy)\n",
    "    plt.figure()\n",
    "    plt.imshow(out,'gray')\n",
    "    \n",
    "    if debug:\n",
    "        print('Temps execució: %.3f segons' %(time.time()-start))\n",
    "    return dictContorns\n",
    "\n",
    "if __name__ == '__main__':\n",
    "    frame = cv.imread('src/test1fitxa.jpg')    \n",
    "    estatPartida = processarFrame2(frame,True)\n",
    "    im=frame.copy()\n",
    "    debug = True;\n",
    "    if debug:\n",
    "        plt.figure()\n",
    "        plt.imshow(mostrarResultat(im,estatPartida))"
   ]
  },
  {
   "cell_type": "code",
   "execution_count": 4,
   "metadata": {},
   "outputs": [
    {
     "name": "stdout",
     "output_type": "stream",
     "text": [
      "nContorns:59\n",
      "[[[30 -1  1 -1]\n",
      "  [-1 -1  2  0]\n",
      "  [ 5 -1  3  1]\n",
      "  [-1 -1  4  2]\n",
      "  [-1 -1 -1  3]\n",
      "  [ 9  2  6  1]\n",
      "  [-1 -1  7  5]\n",
      "  [-1 -1  8  6]\n",
      "  [-1 -1 -1  7]\n",
      "  [13  5 10  1]\n",
      "  [-1 -1 11  9]\n",
      "  [-1 -1 12 10]\n",
      "  [-1 -1 -1 11]\n",
      "  [17  9 14  1]\n",
      "  [-1 -1 15 13]\n",
      "  [-1 -1 16 14]\n",
      "  [-1 -1 -1 15]\n",
      "  [21 13 18  1]\n",
      "  [-1 -1 19 17]\n",
      "  [-1 -1 20 18]\n",
      "  [-1 -1 -1 19]\n",
      "  [23 17 22  1]\n",
      "  [-1 -1 -1 21]\n",
      "  [26 21 24  1]\n",
      "  [-1 -1 25 23]\n",
      "  [-1 -1 -1 24]\n",
      "  [-1 23 27  1]\n",
      "  [-1 -1 28 26]\n",
      "  [-1 -1 29 27]\n",
      "  [-1 -1 -1 28]\n",
      "  [-1  0 31 -1]\n",
      "  [-1 -1 32 30]\n",
      "  [35 -1 33 31]\n",
      "  [-1 -1 34 32]\n",
      "  [-1 -1 -1 33]\n",
      "  [39 32 36 31]\n",
      "  [-1 -1 37 35]\n",
      "  [-1 -1 38 36]\n",
      "  [-1 -1 -1 37]\n",
      "  [43 35 40 31]\n",
      "  [-1 -1 41 39]\n",
      "  [-1 -1 42 40]\n",
      "  [-1 -1 -1 41]\n",
      "  [47 39 44 31]\n",
      "  [-1 -1 45 43]\n",
      "  [-1 -1 46 44]\n",
      "  [-1 -1 -1 45]\n",
      "  [51 43 48 31]\n",
      "  [-1 -1 49 47]\n",
      "  [-1 -1 50 48]\n",
      "  [-1 -1 -1 49]\n",
      "  [55 47 52 31]\n",
      "  [-1 -1 53 51]\n",
      "  [-1 -1 54 52]\n",
      "  [-1 -1 -1 53]\n",
      "  [-1 51 56 31]\n",
      "  [57 -1 -1 55]\n",
      "  [58 56 -1 55]\n",
      "  [-1 57 -1 55]]]\n"
     ]
    },
    {
     "data": {
      "text/plain": [
       "True"
      ]
     },
     "execution_count": 4,
     "metadata": {},
     "output_type": "execute_result"
    },
    {
     "data": {
      "image/png": "[encoded data removed]",
      "text/plain": [
       "<Figure size 432x288 with 1 Axes>"
      ]
     },
     "metadata": {
      "needs_background": "light"
     },
     "output_type": "display_data"
    }
   ],
   "source": [
    "import cv2 as cv\n",
    "import numpy as np\n",
    "from matplotlib import pyplot as plt\n",
    "\n",
    "frame = cv.imread('src/test1fitxa.jpg')  \n",
    "gray = cv.cvtColor(frame,cv.COLOR_BGR2GRAY)\n",
    "edges = cv.Canny(gray,100,200)\n",
    "\n",
    "\n",
    "contours,hierarchy = cv.findContours(edges,cv.RETR_TREE, cv.CHAIN_APPROX_SIMPLE)\n",
    "print('nContorns:{}'.format(len(hierarchy[0])))\n",
    "print(hierarchy)\n",
    "\n",
    "plt.figure()\n",
    "plt.imshow(edges,'gray')\n",
    "\n",
    "\n",
    "cv.imwrite('edges.png',edges)"
   ]
  },
  {
   "cell_type": "code",
   "execution_count": 32,
   "metadata": {},
   "outputs": [
    {
     "name": "stdout",
     "output_type": "stream",
     "text": [
      "[[[11 -1  1 -1]\n",
      "  [ 2 -1 -1  0]\n",
      "  [ 3  1 -1  0]\n",
      "  [ 4  2 -1  0]\n",
      "  [ 5  3 -1  0]\n",
      "  [ 6  4 -1  0]\n",
      "  [ 9  5  7  0]\n",
      "  [ 8 -1 -1  6]\n",
      "  [-1  7 -1  6]\n",
      "  [10  6 -1  0]\n",
      "  [-1  9 -1  0]\n",
      "  [-1  0 12 -1]\n",
      "  [13 -1 -1 11]\n",
      "  [14 12 -1 11]\n",
      "  [15 13 -1 11]\n",
      "  [16 14 -1 11]\n",
      "  [17 15 -1 11]\n",
      "  [18 16 -1 11]\n",
      "  [-1 17 19 11]\n",
      "  [20 -1 -1 18]\n",
      "  [-1 19 -1 18]]]\n",
      "Temps execució: 0.092 segons\n"
     ]
    },
    {
     "data": {
      "image/png": "[encoded data removed]",
      "text/plain": [
       "<Figure size 432x288 with 1 Axes>"
      ]
     },
     "metadata": {
      "needs_background": "light"
     },
     "output_type": "display_data"
    },
    {
     "data": {
      "image/png": "[encoded data removed]",
      "text/plain": [
       "<Figure size 432x288 with 1 Axes>"
      ]
     },
     "metadata": {
      "needs_background": "light"
     },
     "output_type": "display_data"
    }
   ],
   "source": [
    "if __name__ == '__main__':\n",
    "    frame = cv.imread('src/test1fitxa.jpg')    \n",
    "    estatPartida = processarFrame2(frame,True)\n",
    "    im=frame.copy()\n",
    "    debug = True;\n",
    "    if debug:\n",
    "        plt.figure()\n",
    "        plt.imshow(mostrarResultat(im,estatPartida))"
   ]
  }
 ],
 "metadata": {
  "kernelspec": {
   "display_name": "Python 3",
   "language": "python",
   "name": "python3"
  },
  "language_info": {
   "codemirror_mode": {
    "name": "ipython",
    "version": 3
   },
   "file_extension": ".py",
   "mimetype": "text/x-python",
   "name": "python",
   "nbconvert_exporter": "python",
   "pygments_lexer": "ipython3",
   "version": "3.7.4"
  }
 },
 "nbformat": 4,
 "nbformat_minor": 4
}
