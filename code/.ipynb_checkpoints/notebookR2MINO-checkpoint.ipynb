{
 "cells": [
  {
   "cell_type": "code",
   "execution_count": 99,
   "metadata": {},
   "outputs": [],
   "source": [
    "import cv2 as cv\n",
    "import numpy as np\n",
    "from matplotlib import pyplot as plt\n",
    "import time\n",
    "\n",
    "class Fitxa:\n",
    "    def __init__(self,puntsA,puntsB,orientacio, cos):\n",
    "        self.puntsA = puntsA\n",
    "        self.puntsB = puntsB\n",
    "        self.orientacio = orientacio\n",
    "        self.cos = cos\n"
   ]
  },
  {
   "cell_type": "code",
   "execution_count": 178,
   "metadata": {},
   "outputs": [
    {
     "name": "stdout",
     "output_type": "stream",
     "text": [
      "0 : [(239, 163, 171, 115), [2, 1], 0]\n",
      "4 : [(96, 157, 87, 169), [2, 3], 1]\n",
      "Temps execució: 0.086 segons\n"
     ]
    },
    {
     "data": {
      "image/png": "[encoded data removed]",
      "text/plain": [
       "<Figure size 432x288 with 1 Axes>"
      ]
     },
     "metadata": {
      "needs_background": "light"
     },
     "output_type": "display_data"
    },
    {
     "data": {
      "image/png": "[encoded data removed]",
      "text/plain": [
       "<Figure size 432x288 with 1 Axes>"
      ]
     },
     "metadata": {
      "needs_background": "light"
     },
     "output_type": "display_data"
    },
    {
     "data": {
      "image/png": "[encoded data removed]",
      "text/plain": [
       "<Figure size 432x288 with 1 Axes>"
      ]
     },
     "metadata": {
      "needs_background": "light"
     },
     "output_type": "display_data"
    }
   ],
   "source": [
    "if __name__ == '__main__':\n",
    "    start = time.time()\n",
    "    frame = cv.imread('src/test1fitxa.png')\n",
    "    #frame = cv.imread('src/domino.jpg')\n",
    "    # Aplicar Threshold\n",
    "    ret,threshold = cv.threshold(frame,127,255,cv.THRESH_BINARY)\n",
    "    \n",
    "    # Aplicar filtre Gaussia per eliminar el soroll\n",
    "    threshold = cv.GaussianBlur(threshold, (5,5), 0) \n",
    "    \n",
    "    # Deteccio de contorns amb Canny\n",
    "    #minVal = 0\n",
    "    #maxVal = 255    \n",
    "    \n",
    "    #edges = cv.Canny(threshold,minVal, maxVal)\n",
    "\n",
    "    # Contorns \n",
    "    contorns = threshold[:,:,0]\n",
    "    \n",
    "    #contorns = edges.copy()\n",
    "\n",
    "    contours, hierarchy = cv.findContours(contorns,cv.RETR_TREE, cv.CHAIN_APPROX_SIMPLE)\n",
    "    # hierarchy -> [Next, Previous, First_Child, Parent]\n",
    "    dictContorns = {}\n",
    "    for i,c in enumerate(contours):\n",
    "        pare = hierarchy[0][i,3]\n",
    "        if pare != -1:\n",
    "            cos = cv.boundingRect(contours[pare])\n",
    "            x,y,w,h = cv.boundingRect(contours[i])\n",
    "            punts=[0,0]\n",
    "            if cos[2] > cos[3]:\n",
    "                # Horitzontal\n",
    "                orientacio=0\n",
    "                if x < cos[0]+int(cos[2]/2):\n",
    "                    punts=[1,0]\n",
    "                else:\n",
    "                    punts=[0,1]\n",
    "            elif cos[2] < cos[3]:\n",
    "                # Vertical\n",
    "                orientacio=1\n",
    "                if y < cos[1]+int(cos[3]/2):\n",
    "                    punts=[1,0]\n",
    "                else:\n",
    "                    punts=[0,1]\n",
    "            else:\n",
    "                print('Error!')\n",
    "                pass          \n",
    "            \n",
    "            if not str(pare) in dictContorns:\n",
    "                dictContorns[str(pare)]=[cos,punts,orientacio]\n",
    "            else:               \n",
    "                dictContorns[str(pare)][1][0]+=punts[0]\n",
    "                dictContorns[str(pare)][1][1]+=punts[1]\n",
    "    plt.figure()\n",
    "    plt.imshow(frame)\n",
    "    plt.figure()\n",
    "    plt.imshow(contorns,'gray')\n",
    "    for d in dictContorns:\n",
    "        print(d,':',dictContorns[d])\n",
    "        punts = dictContorns[d][1]\n",
    "        x,y,w,h = dictContorns[d][0]\n",
    "        orientacio = dictContorns[d][2]\n",
    "        margin=20\n",
    "        if orientacio == 0:\n",
    "            x1=x-margin\n",
    "            y1=y+int(h/2)\n",
    "            x2=x+w\n",
    "            y2=y+int(h/2)\n",
    "            im =cv.putText(threshold,str(punts[0]),(x1,y1), cv.FONT_HERSHEY_SIMPLEX, 1,(0,255,0),2,cv.LINE_AA)\n",
    "            im =cv.putText(threshold,str(punts[1]),(x2,y2), cv.FONT_HERSHEY_SIMPLEX, 1,(0,255,0),2,cv.LINE_AA)\n",
    "        else:\n",
    "            x1=x+int(w/2)\n",
    "            y1=y\n",
    "            x2=x+int(w/2)\n",
    "            y2=y+h+margin\n",
    "            im =cv.putText(threshold,str(punts[0]),(x1,y1), cv.FONT_HERSHEY_SIMPLEX, 1,(255,0,0),2,cv.LINE_AA)\n",
    "            im =cv.putText(threshold,str(punts[1]),(x2,y2), cv.FONT_HERSHEY_SIMPLEX, 1,(255,0,0),2,cv.LINE_AA)            \n",
    "        im =cv.putText(threshold,str(d),(x+int(w/2),(y+int(h/2))), cv.FONT_HERSHEY_SIMPLEX, 1,(0,0,255),2,cv.LINE_AA)\n",
    "    \n",
    "    #im =cv.putText(threshold,str(i),(x,y), cv.FONT_HERSHEY_SIMPLEX, 1,(255,0,0),2,cv.LINE_AA)\n",
    "    \n",
    "    plt.figure()\n",
    "    plt.imshow(im,'gray')\n",
    "    \n",
    "    print('Temps execució: %.3f segons' %(time.time()-start))\n",
    "    \n",
    "    "
   ]
  },
  {
   "cell_type": "code",
   "execution_count": null,
   "metadata": {},
   "outputs": [],
   "source": []
  },
  {
   "cell_type": "code",
   "execution_count": null,
   "metadata": {},
   "outputs": [],
   "source": []
  }
 ],
 "metadata": {
  "kernelspec": {
   "display_name": "Python 3",
   "language": "python",
   "name": "python3"
  },
  "language_info": {
   "codemirror_mode": {
    "name": "ipython",
    "version": 3
   },
   "file_extension": ".py",
   "mimetype": "text/x-python",
   "name": "python",
   "nbconvert_exporter": "python",
   "pygments_lexer": "ipython3",
   "version": "3.7.4"
  }
 },
 "nbformat": 4,
 "nbformat_minor": 4
}
