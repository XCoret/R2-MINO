{
 "cells": [
  {
   "cell_type": "code",
   "execution_count": 1,
   "metadata": {},
   "outputs": [],
   "source": [
    "# -*- coding: utf-8 -*-\n",
    "'''\n",
    "Computa els canvis registrats en el taulell de joc i ho passa al Mòdul Control.\n",
    "'''\n",
    "import cv2 as cv\n",
    "import numpy as np\n",
    "from matplotlib import pyplot as plt\n",
    "import time"
   ]
  },
  {
   "cell_type": "code",
   "execution_count": 2,
   "metadata": {},
   "outputs": [],
   "source": [
    "def mostrarResultat(im,estatPartida,debug=False):\n",
    "    for d in estatPartida:\n",
    "        if debug:\n",
    "            print(d,':',estatPartida[d])\n",
    "        punts = estatPartida[d][1]\n",
    "        x,y,w,h = estatPartida[d][0]\n",
    "        orientacio = estatPartida[d][2]\n",
    "        margin=20\n",
    "        if orientacio == 0:\n",
    "            x1=x-margin\n",
    "            y1=y+int(h/2)\n",
    "            x2=x+w\n",
    "            y2=y+int(h/2)\n",
    "            im =cv.putText(im,str(punts[0]),(x1,y1), cv.FONT_HERSHEY_SIMPLEX, 1,(0,255,0),2,cv.LINE_AA)\n",
    "            im =cv.putText(im,str(punts[1]),(x2,y2), cv.FONT_HERSHEY_SIMPLEX, 1,(0,255,0),2,cv.LINE_AA)\n",
    "        else:\n",
    "            x1=x+int(w/2)\n",
    "            y1=y\n",
    "            x2=x+int(w/2)\n",
    "            y2=y+h+margin\n",
    "            im =cv.putText(im,str(punts[0]),(x1,y1), cv.FONT_HERSHEY_SIMPLEX, 1,(255,0,0),2,cv.LINE_AA)\n",
    "            im =cv.putText(im,str(punts[1]),(x2,y2), cv.FONT_HERSHEY_SIMPLEX, 1,(255,0,0),2,cv.LINE_AA)            \n",
    "        if debug:\n",
    "            im =cv.putText(im,str(d),(x+int(w/2),(y+int(h/2))), cv.FONT_HERSHEY_SIMPLEX, 1,(0,0,255),2,cv.LINE_AA)\n",
    "    im.astype('uint8')\n",
    "    return im"
   ]
  },
  {
   "cell_type": "code",
   "execution_count": 3,
   "metadata": {},
   "outputs": [],
   "source": [
    "def processarFrame(frame, debug=False):\n",
    "    start = time.time()\n",
    "    im = frame.copy()\n",
    "    # Aplicar Threshold per obtenir imatge binaria\n",
    "    ret,threshold = cv.threshold(frame,127,255,cv.THRESH_BINARY) \n",
    "    # Aplicar filtre Gaussia per eliminar el soroll\n",
    "    threshold = cv.GaussianBlur(threshold, (5,5), 0) \n",
    "    \n",
    "    # Creem imatge 2D per trobar-hi contorns \n",
    "    contorns = threshold[:,:,0]\n",
    "    if debug :\n",
    "        plt.figure()\n",
    "        plt.imshow(contorns,'gray')\n",
    "    # Trobem els contorns presents en la imatge (principalment les fitxes i els punts)\n",
    "    contours, hierarchy = cv.findContours(contorns,cv.RETR_TREE, cv.CHAIN_APPROX_SIMPLE)\n",
    "    # contours -> Llista de contorns (llista de llistes de punts que formen cada contorn)\n",
    "    # hierarchy ->Llista de relacions entre contorns\n",
    "    # estructura de hierarchy -> [Next, Previous, First_Child, Parent]\n",
    "    # el valor de cada camp referencia a un altre contorn\n",
    "    # si no fa referencia a cap contorn, valor = -1 p.e si un contorn no te cap contorn dins : First_Child = -1\n",
    "    \n",
    "    # Creem un diccionari per desar les fitxes amb les seves dades\n",
    "    dictContorns = {}\n",
    "    # dictContorns = {idContorn: [cos,punts,orientacio]}\n",
    "    #                 cos: [x, y, width, height]\n",
    "    #                 punts: [puntsA, puntsB]\n",
    "    #                 orientacio: 0 Horitzontal; 1 Vertical\n",
    "    \n",
    "    # Per cada contorn c\n",
    "    for i,c in enumerate(contours):\n",
    "        pare = hierarchy[0][i,3]\n",
    "        # Si el contorn actual esta dins d'algun altre (es un punt)\n",
    "        if pare != -1:\n",
    "            # registrem les dades de la fitxa a la que pertany el punt a la variable cos\n",
    "            # cos -> (x,y,width,height)\n",
    "            cos = cv.boundingRect(contours[pare])\n",
    "            # registrem les dades del punt actual\n",
    "            x,y,w,h = cv.boundingRect(contours[i])\n",
    "            punts=[0,0]\n",
    "            orientacio=0\n",
    "            #Comprovem l'orientacio de la fitxa i assignem el punt a un dels costats\n",
    "            if cos[2] > cos[3]:\n",
    "                # Horitzontal\n",
    "                orientacio=0\n",
    "                if x < cos[0]+int(cos[2]/2):\n",
    "                    punts=[1,0] # Esquerra\n",
    "                else:\n",
    "                    punts=[0,1] # Dreta\n",
    "            elif cos[2] < cos[3]:\n",
    "                # Vertical\n",
    "                orientacio=1\n",
    "                if y < cos[1]+int(cos[3]/2):\n",
    "                    punts=[1,0] # Superior\n",
    "                else:\n",
    "                    punts=[0,1] # Inferior\n",
    "            else:\n",
    "                print('Error!')\n",
    "                pass          \n",
    "            \n",
    "            # Si la fitxa no existeix en el diccionari, la afegim amb totes les dades que hem recollit\n",
    "            if not str(pare) in dictContorns:\n",
    "                dictContorns[str(pare)]=[cos,punts,orientacio]\n",
    "            # Si la fitxa si existeix, modifiquem el camp punts afegint el punt trobat al canto corresponent\n",
    "            else:               \n",
    "                dictContorns[str(pare)][1][0]+=punts[0]\n",
    "                dictContorns[str(pare)][1][1]+=punts[1]\n",
    "    if debug:\n",
    "        print('Temps execució: %.3f segons' %(time.time()-start))\n",
    "    return dictContorns"
   ]
  },
  {
   "cell_type": "code",
   "execution_count": 20,
   "metadata": {},
   "outputs": [],
   "source": [
    "def processarFrame2(frame, debug=False):\n",
    "    start = time.time()\n",
    "    im = frame.copy()\n",
    "    # Aplicar Threshold per obtenir imatge binaria\n",
    "    ret,threshold = cv.threshold(frame,127,255,cv.THRESH_BINARY) \n",
    "    # Aplicar filtre Gaussia per eliminar el soroll\n",
    "    threshold = cv.GaussianBlur(threshold, (5,5), 0) \n",
    "    \n",
    "    # Creem imatge 2D per trobar-hi contorns \n",
    "    contorns = threshold[:,:,0]\n",
    "    if debug :\n",
    "        plt.figure()\n",
    "        plt.imshow(contorns,'gray')\n",
    "    # Trobem els contorns presents en la imatge (principalment les fitxes i els punts)\n",
    "    contours, hierarchy = cv.findContours(contorns,cv.RETR_TREE, cv.CHAIN_APPROX_SIMPLE)\n",
    "    # contours -> Llista de contorns (llista de llistes de punts que formen cada contorn)\n",
    "    # hierarchy ->Llista de relacions entre contorns\n",
    "    # estructura de hierarchy -> [Next, Previous, First_Child, Parent]\n",
    "    # el valor de cada camp referencia a un altre contorn\n",
    "    # si no fa referencia a cap contorn, valor = -1 p.e si un contorn no te cap contorn dins : First_Child = -1\n",
    "    \n",
    "    # Creem un diccionari per desar les fitxes amb les seves dades\n",
    "    dictContorns = {}\n",
    "    # dictContorns = {idContorn: [cos,punts,orientacio]}\n",
    "    #                 cos: [x, y, width, height]\n",
    "    #                 punts: [puntsA, puntsB]\n",
    "    #                 orientacio: 0 Horitzontal; 1 Vertical\n",
    "    \n",
    "    # Per cada contorn c\n",
    "    \n",
    "    plt.figure()\n",
    "    plt.imshow((contorns)\n",
    "    if debug:\n",
    "        print('Temps execució: %.3f segons' %(time.time()-start))\n",
    "    return dictContorns"
   ]
  },
  {
   "cell_type": "code",
   "execution_count": 23,
   "metadata": {},
   "outputs": [
    {
     "name": "stdout",
     "output_type": "stream",
     "text": [
      "Error!\n",
      "Error!\n",
      "Error!\n",
      "Error!\n",
      "Error!\n",
      "Error!\n",
      "Error!\n",
      "Error!\n",
      "Temps execució: 0.104 segons\n"
     ]
    },
    {
     "data": {
      "image/png": "[encoded data removed]",
      "text/plain": [
       "<Figure size 432x288 with 1 Axes>"
      ]
     },
     "metadata": {
      "needs_background": "light"
     },
     "output_type": "display_data"
    },
    {
     "data": {
      "image/png": "[encoded data removed]",
      "text/plain": [
       "<Figure size 432x288 with 1 Axes>"
      ]
     },
     "metadata": {
      "needs_background": "light"
     },
     "output_type": "display_data"
    }
   ],
   "source": [
    "if __name__ == '__main__':\n",
    "    frame = cv.imread('src/test1fitxa.jpg')    \n",
    "    estatPartida = processarFram2(frame,True)\n",
    "    im=frame.copy()\n",
    "    debug = True;\n",
    "    if debug:\n",
    "        plt.figure()\n",
    "        plt.imshow(mostrarResultat(im,estatPartida))"
   ]
  }
 ],
 "metadata": {
  "kernelspec": {
   "display_name": "Python 3",
   "language": "python",
   "name": "python3"
  },
  "language_info": {
   "codemirror_mode": {
    "name": "ipython",
    "version": 3
   },
   "file_extension": ".py",
   "mimetype": "text/x-python",
   "name": "python",
   "nbconvert_exporter": "python",
   "pygments_lexer": "ipython3",
   "version": "3.7.4"
  }
 },
 "nbformat": 4,
 "nbformat_minor": 4
}
